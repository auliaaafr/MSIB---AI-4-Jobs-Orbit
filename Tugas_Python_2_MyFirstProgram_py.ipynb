{
  "nbformat": 4,
  "nbformat_minor": 0,
  "metadata": {
    "colab": {
      "provenance": [],
      "authorship_tag": "ABX9TyOAatONgc7Ou7aRdz24U80i",
      "include_colab_link": true
    },
    "kernelspec": {
      "name": "python3",
      "display_name": "Python 3"
    },
    "language_info": {
      "name": "python"
    }
  },
  "cells": [
    {
      "cell_type": "markdown",
      "metadata": {
        "id": "view-in-github",
        "colab_type": "text"
      },
      "source": [
        "<a href=\"https://colab.research.google.com/github/auliaaafr/MSIB---AI-4-Jobs-Orbit/blob/main/Tugas_Python_2_MyFirstProgram_py.ipynb\" target=\"_parent\"><img src=\"https://colab.research.google.com/assets/colab-badge.svg\" alt=\"Open In Colab\"/></a>"
      ]
    },
    {
      "cell_type": "markdown",
      "source": [
        "PERSEGI"
      ],
      "metadata": {
        "id": "BJCSN-FMgWFR"
      }
    },
    {
      "cell_type": "code",
      "execution_count": null,
      "metadata": {
        "id": "3l2epQcPfLab"
      },
      "outputs": [],
      "source": [
        "#luas dan keliling persegi\n",
        "print('## Menghitung Luas dan Keliling Persegi ##')\n",
        "print(\"\\n\")\n",
        "panjang_sisi = int(input('masukkan panjang sisi :'))\n",
        "print(\"\\n\")\n",
        "print('s = ', panjang_sisi, 'cm')\n",
        "print(\"\\n\")\n",
        "luas     = panjang_sisi * panjang_sisi\n",
        "print('luasnya adalah :', luas, 'cm^2')\n",
        "keliling = 4 * panjang_sisi\n",
        "print('kelilingnya adalah :', keliling, 'cm')"
      ]
    },
    {
      "cell_type": "markdown",
      "source": [
        "PERSEGI PANJANG"
      ],
      "metadata": {
        "id": "srV3Lx_5gy_7"
      }
    },
    {
      "cell_type": "code",
      "source": [
        "#luas dan keliling persegi panjang\n",
        "print('## Menghitung Luas dan Keliling Persegi Panjang ##')\n",
        "print(\"\\n\")\n",
        "panjang = int(input('masukkan panjang :'))\n",
        "lebar = int(input('masukkan lebar :'))\n",
        "print(\"\\n\")\n",
        "print('p = ', panjang, 'cm')\n",
        "print('l = ', lebar, 'cm')\n",
        "print(\"\\n\")\n",
        "luas     = panjang * lebar\n",
        "print('luasnya adalah :', luas, 'cm^2')\n",
        "keliling = 2 * (panjang + lebar)\n",
        "print('kelilingnya adalah :', keliling, 'cm')"
      ],
      "metadata": {
        "id": "eL6vTC9yg2bu"
      },
      "execution_count": null,
      "outputs": []
    },
    {
      "cell_type": "markdown",
      "source": [
        "JAJAR GENJANG"
      ],
      "metadata": {
        "id": "v18fHbDOh_Ng"
      }
    },
    {
      "cell_type": "code",
      "source": [
        "#luas dan keliling jajar genjang\n",
        "print('## Menghitung Luas dan Keliling Jajar Genjang ##')\n",
        "print(\"\\n\")\n",
        "alas = int(input('masukkan alas :'))\n",
        "sisi_miring = int(input('masukkan sisi miring :'))\n",
        "tinggi = int(input('masukkan tinggi :'))\n",
        "print(\"\\n\")\n",
        "print('a = ', alas, 'cm')\n",
        "print('b = ', sisi_miring, 'cm')\n",
        "print('t = ', tinggi, 'cm')\n",
        "print(\"\\n\")\n",
        "luas     = alas * tinggi\n",
        "print('luasnya adalah :', luas, 'cm^2')\n",
        "keliling = 2 * (alas + sisi_miring)\n",
        "print('kelilingnya adalah :', keliling, 'cm')"
      ],
      "metadata": {
        "id": "6EdqGwpiiB27"
      },
      "execution_count": null,
      "outputs": []
    },
    {
      "cell_type": "markdown",
      "source": [
        "TRAPESIUM"
      ],
      "metadata": {
        "id": "ogR7gdLpjOkN"
      }
    },
    {
      "cell_type": "code",
      "source": [
        "#luas dan keliling trapesium\n",
        "print('## Menghitung Luas dan Keliling Trapesium ##')\n",
        "print(\"\\n\")\n",
        "sisi_sejajar_1 = int(input('masukkan sisi sejajar 1 :'))\n",
        "sisi_sejajar_2 = int(input('masukkan sisi sejajar 2 :'))\n",
        "sisi_miring_1 = int(input('masukkan sisi miring 1 :'))\n",
        "sisi_miring_2 = int(input('masukkan sisi miring 2 :'))\n",
        "tinggi = int(input('masukkan tinggi :'))\n",
        "print(\"\\n\")\n",
        "print('a = ', sisi_sejajar_1, 'cm')\n",
        "print('b = ', sisi_sejajar_2, 'cm')\n",
        "print('c = ', sisi_miring_1, 'cm')\n",
        "print('d = ', sisi_miring_2, 'cm')\n",
        "print('t = ', tinggi, 'cm')\n",
        "print(\"\\n\")\n",
        "luas     = 0.5 * (sisi_sejajar_1 + sisi_sejajar_2) * tinggi\n",
        "print('luasnya adalah :', luas, 'cm^2')\n",
        "keliling = sisi_sejajar_1 + sisi_sejajar_2 + sisi_miring_1 + sisi_miring_2\n",
        "print('kelilingnya adalah :', keliling, 'cm')"
      ],
      "metadata": {
        "id": "dkNf4dM-jQlw"
      },
      "execution_count": null,
      "outputs": []
    },
    {
      "cell_type": "markdown",
      "source": [
        "LAYANG - LAYANG"
      ],
      "metadata": {
        "id": "uCSzQj7nlibq"
      }
    },
    {
      "cell_type": "code",
      "source": [
        "#luas dan keliling layang_layang\n",
        "print('## Menghitung Luas dan Keliling Layang - Layang ##')\n",
        "print(\"\\n\")\n",
        "sisi_1 = int(input('masukkan sisi 1 :'))\n",
        "sisi_2 = int(input('masukkan sisi 2 :'))\n",
        "diagonal_1 = int(input('masukkan diagonal 1 :'))\n",
        "diagonal_2 = int(input('masukkan diagonal 2 :'))\n",
        "print(\"\\n\")\n",
        "print('a = ', sisi_1, 'cm')\n",
        "print('b = ', sisi_2, 'cm')\n",
        "print('d1 = ', diagonal_1, 'cm')\n",
        "print('d2 = ', diagonal_2, 'cm')\n",
        "print(\"\\n\")\n",
        "luas     = 0.5 * diagonal_1 * diagonal_2\n",
        "print('luasnya adalah :', luas, 'cm^2')\n",
        "keliling = 2 * (sisi_1 + sisi_2)\n",
        "print('kelilingnya adalah :', keliling, 'cm')"
      ],
      "metadata": {
        "id": "e-2S-l3CljqD"
      },
      "execution_count": null,
      "outputs": []
    },
    {
      "cell_type": "markdown",
      "source": [
        "BELAH KETUPAT"
      ],
      "metadata": {
        "id": "uQm8bIj_mivS"
      }
    },
    {
      "cell_type": "code",
      "source": [
        "#luas dan keliling belah ketupat\n",
        "print('## Menghitung Luas dan Keliling Belah Ketupat ##')\n",
        "print(\"\\n\")\n",
        "panjang_sisi = int(input('masukkan panjang sisi :'))\n",
        "diagonal_1 = int(input('masukkan diagonal 1 :'))\n",
        "diagonal_2 = int(input('masukkan diagonal 2 :'))\n",
        "print(\"\\n\")\n",
        "print('s = ', panjang_sisi, 'cm')\n",
        "print('d1 = ', diagonal_1, 'cm')\n",
        "print('d2 = ', diagonal_2, 'cm')\n",
        "print(\"\\n\")\n",
        "luas     = 0.5 * diagonal_1 * diagonal_2\n",
        "print('luasnya adalah :', luas, 'cm^2')\n",
        "keliling = 4 * panjang_sisi\n",
        "print('kelilingnya adalah :', keliling, 'cm')"
      ],
      "metadata": {
        "id": "h5mRmSDRmj6W"
      },
      "execution_count": null,
      "outputs": []
    },
    {
      "cell_type": "markdown",
      "source": [
        "SEGITIGA"
      ],
      "metadata": {
        "id": "oGDnkQJHnP7V"
      }
    },
    {
      "cell_type": "code",
      "source": [
        "#luas dan keliling segitiga\n",
        "print('## Menghitung Luas dan Keliling Segitiga ##')\n",
        "print(\"\\n\")\n",
        "alas = int(input('masukkan alas :'))\n",
        "tinggi = int(input('masukkan tinggi :'))\n",
        "panjang_sisi_1 = int(input('masukkan panjang sisi 1 :'))\n",
        "panjang_sisi_2 = int(input('masukkan panjang sisi 2 :'))\n",
        "panjang_sisi_3 = int(input('masukkan panjang sisi 3 :'))\n",
        "print(\"\\n\")\n",
        "print('a = ', alas, 'cm')\n",
        "print('t = ', tinggi, 'cm')\n",
        "print('s1 = ', panjang_sisi_1, 'cm')\n",
        "print('s2 = ', panjang_sisi_2, 'cm')\n",
        "print('s3 = ', panjang_sisi_3, 'cm')\n",
        "print(\"\\n\")\n",
        "luas     = 0.5 * alas * tinggi\n",
        "print('luasnya adalah :', luas, 'cm^2')\n",
        "keliling = panjang_sisi_1 + panjang_sisi_2 + panjang_sisi_3\n",
        "print('kelilingnya adalah :', keliling, 'cm')"
      ],
      "metadata": {
        "id": "aP-M-3cBnQVP"
      },
      "execution_count": null,
      "outputs": []
    },
    {
      "cell_type": "markdown",
      "source": [
        "LINGKARAN"
      ],
      "metadata": {
        "id": "m3Yh0K1woTt3"
      }
    },
    {
      "cell_type": "code",
      "source": [
        "#luas dan keliling segitiga\n",
        "print('## Menghitung Luas dan Keliling Segitiga ##')\n",
        "print(\"\\n\")\n",
        "pi = 3.14\n",
        "jari_jari = int(input('masukkan jari-jari :'))\n",
        "print(\"\\n\")\n",
        "print('r = ', jari_jari, 'cm')\n",
        "print(\"\\n\")\n",
        "luas     = pi * jari_jari * jari_jari\n",
        "print('luasnya adalah :', luas, 'cm^2')\n",
        "keliling = 2 * pi * jari_jari\n",
        "print('kelilingnya adalah :', keliling, 'cm')"
      ],
      "metadata": {
        "id": "qd3GWQaMoT-C"
      },
      "execution_count": null,
      "outputs": []
    }
  ]
}