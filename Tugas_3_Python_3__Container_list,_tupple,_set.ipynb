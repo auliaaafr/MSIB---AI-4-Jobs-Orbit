{
  "nbformat": 4,
  "nbformat_minor": 0,
  "metadata": {
    "colab": {
      "provenance": [],
      "authorship_tag": "ABX9TyPmeD2FQzsDaqJWJKD2vwkI",
      "include_colab_link": true
    },
    "kernelspec": {
      "name": "python3",
      "display_name": "Python 3"
    },
    "language_info": {
      "name": "python"
    }
  },
  "cells": [
    {
      "cell_type": "markdown",
      "metadata": {
        "id": "view-in-github",
        "colab_type": "text"
      },
      "source": [
        "<a href=\"https://colab.research.google.com/github/auliaaafr/MSIB_AI-4-Jobs_Orbit/blob/main/Tugas_3_Python_3__Container_list%2C_tupple%2C_set.ipynb\" target=\"_parent\"><img src=\"https://colab.research.google.com/assets/colab-badge.svg\" alt=\"Open In Colab\"/></a>"
      ]
    },
    {
      "cell_type": "code",
      "source": [
        "Nomor = 8\n",
        "NIK = [1990022, 2001077, 2002019, 2002081, 2005099, 2006003, 2006104, 2008160]\n",
        "Nama = ['Herman', 'Badar', 'Clara', 'Rista', 'Riani', 'Afif', 'Riven', 'Endah']\n",
        "J_Kelamin = ['L','L', 'P', 'P', 'P', 'L', 'L', 'P']\n",
        "Alamat = ['Tangerang', 'Bekasi', 'Depok', 'Bogor', 'Bekasi', 'Karawang', 'Tangerang', 'Jakarta']\n",
        "Div = ['Machinery', 'Machinery', 'Compressor', 'QC', 'QC', 'Compressor', 'Compressor', 'Machinery']\n",
        "Jab = ['Manajer', 'Staff', 'Staff', 'Staff', 'Operator', 'Operator', 'Operator', 'Operator']\n",
        "G_Pokok = [10000000, 7500000, 7000000, 6500000, 6000000, 5500000, 5500000, 5000000]\n",
        "\n",
        "print('''\n",
        "-----------------------------------------------------------------------------------------------------------------\n",
        "| No |    NIK    |    Nama    |    Jenis Kelamin    |    Alamat    |    Divisi    |    Jabatan    |  Gaji Pokok |\n",
        "-----------------------------------------------------------------------------------------------------------------\n",
        "''')\n",
        "for x in range(Nomor):\n",
        "  kolom_1 = str(x+1)\n",
        "  kolom_2 = str(NIK[x])\n",
        "  kolom_3 = str(Nama[x])\n",
        "  kolom_4 = str(J_Kelamin[x])\n",
        "  kolom_5 = str(Alamat[x])\n",
        "  kolom_6 = str(Div[x])\n",
        "  kolom_7 = str(Jab[x])\n",
        "  kolom_8 = str(G_Pokok[x])\n",
        "\n",
        "  print('| ' + kolom_1 + (3-len(kolom_1))*' '\n",
        "       + '| ' + kolom_2 + (10-len(kolom_2))*' '\n",
        "       + '| ' + kolom_3 + (11-len(kolom_3))*' '\n",
        "       + '| ' + kolom_4 + (20-len(kolom_4))*' '\n",
        "       + '| ' + kolom_5 + (13-len(kolom_5))*' '\n",
        "       + '| ' + kolom_6 + (13-len(kolom_6))*' '\n",
        "       + '| ' + kolom_7 + (14-len(kolom_7))*' '\n",
        "       + '| ' + kolom_8 + (12-len(kolom_8))*' ' + '|')\n",
        "  print('-----------------------------------------------------------------------------------------------------------------')"
      ],
      "metadata": {
        "colab": {
          "base_uri": "https://localhost:8080/"
        },
        "id": "amMphHF18KXk",
        "outputId": "ded59858-9ee2-421b-b203-5ecad6afc9be"
      },
      "execution_count": 84,
      "outputs": [
        {
          "output_type": "stream",
          "name": "stdout",
          "text": [
            "\n",
            "-----------------------------------------------------------------------------------------------------------------\n",
            "| No |    NIK    |    Nama    |    Jenis Kelamin    |    Alamat    |    Divisi    |    Jabatan    |  Gaji Pokok |\n",
            "-----------------------------------------------------------------------------------------------------------------\n",
            "\n",
            "| 1  | 1990022   | Herman     | L                   | Tangerang    | Machinery    | Manajer       | 10000000    |\n",
            "-----------------------------------------------------------------------------------------------------------------\n",
            "| 2  | 2001077   | Badar      | L                   | Bekasi       | Machinery    | Staff         | 7500000     |\n",
            "-----------------------------------------------------------------------------------------------------------------\n",
            "| 3  | 2002019   | Clara      | P                   | Depok        | Compressor   | Staff         | 7000000     |\n",
            "-----------------------------------------------------------------------------------------------------------------\n",
            "| 4  | 2002081   | Rista      | P                   | Bogor        | QC           | Staff         | 6500000     |\n",
            "-----------------------------------------------------------------------------------------------------------------\n",
            "| 5  | 2005099   | Riani      | P                   | Bekasi       | QC           | Operator      | 6000000     |\n",
            "-----------------------------------------------------------------------------------------------------------------\n",
            "| 6  | 2006003   | Afif       | L                   | Karawang     | Compressor   | Operator      | 5500000     |\n",
            "-----------------------------------------------------------------------------------------------------------------\n",
            "| 7  | 2006104   | Riven      | L                   | Tangerang    | Compressor   | Operator      | 5500000     |\n",
            "-----------------------------------------------------------------------------------------------------------------\n",
            "| 8  | 2008160   | Endah      | P                   | Jakarta      | Machinery    | Operator      | 5000000     |\n",
            "-----------------------------------------------------------------------------------------------------------------\n"
          ]
        }
      ]
    }
  ]
}